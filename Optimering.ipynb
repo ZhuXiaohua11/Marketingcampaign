{
 "cells": [
  {
   "cell_type": "code",
   "execution_count": 37,
   "id": "9d45957a",
   "metadata": {},
   "outputs": [],
   "source": [
    "import pandas as pd\n",
    "import numpy as np\n",
    "import matplotlib.pyplot as plt\n",
    "import seaborn as sns\n",
    "from sklearn.model_selection import train_test_split, GridSearchCV\n",
    "from sklearn.preprocessing import StandardScaler\n",
    "from sklearn.decomposition import PCA\n",
    "from sklearn.metrics import classification_report, confusion_matrix, accuracy_score, roc_auc_score, roc_curve\n",
    "from sklearn.linear_model import LogisticRegression\n",
    "from sklearn.neighbors import KNeighborsClassifier\n",
    "from sklearn.ensemble import RandomForestClassifier"
   ]
  },
  {
   "cell_type": "markdown",
   "id": "1b27dcc7",
   "metadata": {},
   "source": [
    "läsa in  Läs in förbehandlade tränings- och testdata"
   ]
  },
  {
   "cell_type": "code",
   "execution_count": 38,
   "id": "493a587b",
   "metadata": {},
   "outputs": [],
   "source": [
    "X_train = pd.read_csv(\"X_train.csv\")\n",
    "X_test = pd.read_csv(\"X_test.csv\")\n",
    "y_train = pd.read_csv(\"y_train.csv\").values.ravel()\n",
    "y_test = pd.read_csv(\"y_test.csv\").values.ravel()\n"
   ]
  },
  {
   "cell_type": "markdown",
   "id": "aefd338d",
   "metadata": {},
   "source": [
    "Standardisera funktionsdata"
   ]
  },
  {
   "cell_type": "code",
   "execution_count": 39,
   "id": "cf46148d",
   "metadata": {},
   "outputs": [],
   "source": [
    "scaler = StandardScaler()\n",
    "X_train_scaled = scaler.fit_transform(X_train)\n",
    "X_test_scaled = scaler.transform(X_test)"
   ]
  },
  {
   "cell_type": "markdown",
   "id": "fa1a1fe5",
   "metadata": {},
   "source": [
    " Funktion för att utvärdera modeller och spara resultat"
   ]
  },
  {
   "cell_type": "code",
   "execution_count": 40,
   "id": "5c649e3d",
   "metadata": {},
   "outputs": [],
   "source": [
    "eval_results = []\n",
    "\n",
    "def evaluate_model(model, X_test, y_test, name):\n",
    "    y_pred = model.predict(X_test)\n",
    "    acc = accuracy_score(y_test, y_pred)\n",
    "    report = classification_report(y_test, y_pred, output_dict=True)\n",
    "    eval_results.append({\n",
    "        \"Modell\": name,\n",
    "        \"Accuracy\": acc,\n",
    "        \"Precision_1\": report['1']['precision'],\n",
    "        \"Recall_1\": report['1']['recall'],\n",
    "        \"F1_1\": report['1']['f1-score']\n",
    "    })\n",
    "    print(f\"\\n📌 {name}:\")\n",
    "    print(\"Noggrannhet:\", acc)\n",
    "    print(\"Konfusionsmatris:\\n\", confusion_matrix(y_test, y_pred))\n",
    "    print(\"Klassificeringsrapport:\\n\", classification_report(y_test, y_pred))"
   ]
  },
  {
   "cell_type": "markdown",
   "id": "0badb80b",
   "metadata": {},
   "source": [
    " Logistic Regression (utan vikt)"
   ]
  },
  {
   "cell_type": "code",
   "execution_count": 41,
   "id": "90a0d1f1",
   "metadata": {},
   "outputs": [
    {
     "name": "stdout",
     "output_type": "stream",
     "text": [
      "\n",
      "📌 Logistic Regression:\n",
      "Noggrannhet: 0.8693693693693694\n",
      "Konfusionsmatris:\n",
      " [[374   8]\n",
      " [ 50  12]]\n",
      "Klassificeringsrapport:\n",
      "               precision    recall  f1-score   support\n",
      "\n",
      "           0       0.88      0.98      0.93       382\n",
      "           1       0.60      0.19      0.29        62\n",
      "\n",
      "    accuracy                           0.87       444\n",
      "   macro avg       0.74      0.59      0.61       444\n",
      "weighted avg       0.84      0.87      0.84       444\n",
      "\n"
     ]
    },
    {
     "name": "stderr",
     "output_type": "stream",
     "text": [
      "C:\\Users\\riddl\\AppData\\Roaming\\Python\\Python312\\site-packages\\sklearn\\linear_model\\_logistic.py:465: ConvergenceWarning: lbfgs failed to converge (status=1):\n",
      "STOP: TOTAL NO. OF ITERATIONS REACHED LIMIT.\n",
      "\n",
      "Increase the number of iterations (max_iter) or scale the data as shown in:\n",
      "    https://scikit-learn.org/stable/modules/preprocessing.html\n",
      "Please also refer to the documentation for alternative solver options:\n",
      "    https://scikit-learn.org/stable/modules/linear_model.html#logistic-regression\n",
      "  n_iter_i = _check_optimize_result(\n"
     ]
    }
   ],
   "source": [
    "log_model = LogisticRegression(max_iter=1000)\n",
    "log_model.fit(X_train, y_train)\n",
    "evaluate_model(log_model, X_test, y_test, \"Logistic Regression\")"
   ]
  },
  {
   "cell_type": "markdown",
   "id": "162518ba",
   "metadata": {},
   "source": [
    "Logistic Regression (utan vikt)\n",
    "Bra total noggrannhet (~86%)\n",
    "\n",
    "Dålig på att hitta de som svarade (klass 1) → recall = 0.19"
   ]
  },
  {
   "cell_type": "markdown",
   "id": "ce40537d",
   "metadata": {},
   "source": [
    "Logistic Regression med class_weight='balanced'"
   ]
  },
  {
   "cell_type": "code",
   "execution_count": 42,
   "id": "361a2905",
   "metadata": {},
   "outputs": [
    {
     "name": "stdout",
     "output_type": "stream",
     "text": [
      "\n",
      "📌 LogReg (balanced):\n",
      "Noggrannhet: 0.704954954954955\n",
      "Konfusionsmatris:\n",
      " [[265 117]\n",
      " [ 14  48]]\n",
      "Klassificeringsrapport:\n",
      "               precision    recall  f1-score   support\n",
      "\n",
      "           0       0.95      0.69      0.80       382\n",
      "           1       0.29      0.77      0.42        62\n",
      "\n",
      "    accuracy                           0.70       444\n",
      "   macro avg       0.62      0.73      0.61       444\n",
      "weighted avg       0.86      0.70      0.75       444\n",
      "\n"
     ]
    }
   ],
   "source": [
    "log_balanced = LogisticRegression(max_iter=1000, class_weight='balanced')\n",
    "log_balanced.fit(X_train, y_train)\n",
    "evaluate_model(log_balanced, X_test, y_test, \"LogReg (balanced)\")"
   ]
  },
  {
   "cell_type": "markdown",
   "id": "79010c4a",
   "metadata": {},
   "source": [
    "Modellen offrar lite noggrannhet totalt sett för att bli mycket bättre på att hitta de som svarar (klass 1)\n",
    "\n",
    "Det här är bra för affärsanvändning – företaget hittar fler verkligt intresserade kunder, även om du ibland gissar fel."
   ]
  },
  {
   "cell_type": "code",
   "execution_count": 43,
   "id": "99f0ccb0",
   "metadata": {},
   "outputs": [
    {
     "name": "stdout",
     "output_type": "stream",
     "text": [
      "\n",
      "📌 KNN (k=17):\n",
      "Noggrannhet: 0.8648648648648649\n",
      "Konfusionsmatris:\n",
      " [[374   8]\n",
      " [ 52  10]]\n",
      "Klassificeringsrapport:\n",
      "               precision    recall  f1-score   support\n",
      "\n",
      "           0       0.88      0.98      0.93       382\n",
      "           1       0.56      0.16      0.25        62\n",
      "\n",
      "    accuracy                           0.86       444\n",
      "   macro avg       0.72      0.57      0.59       444\n",
      "weighted avg       0.83      0.86      0.83       444\n",
      "\n"
     ]
    }
   ],
   "source": [
    "param_grid = {'n_neighbors': list(range(3, 21))}\n",
    "gs_knn = GridSearchCV(KNeighborsClassifier(), param_grid, cv=5)\n",
    "gs_knn.fit(X_train, y_train)\n",
    "evaluate_model(gs_knn.best_estimator_, X_test, y_test, f\"KNN (k={gs_knn.best_params_['n_neighbors']})\")"
   ]
  },
  {
   "cell_type": "markdown",
   "id": "f1ef22d0",
   "metadata": {},
   "source": [
    "Automatisk sökning gav k=17 som bäst för accuracy\n",
    "\n",
    "MEN:\n",
    "\n",
    "F1-score för klass 1 = 0.25\n",
    "\n",
    "Recall = 0.16 ❌ (väldigt låg)\n",
    "\n",
    "Det betyder att även om modellen gissar rätt ofta totalt, så är den dålig på att hitta de som svarade på kampanjen."
   ]
  },
  {
   "cell_type": "markdown",
   "id": "fd4f2ae7",
   "metadata": {},
   "source": [
    "GridSearchCV för KNN baserat på F1-score för klass 1"
   ]
  },
  {
   "cell_type": "code",
   "execution_count": null,
   "id": "8fe3b7df",
   "metadata": {},
   "outputs": [
    {
     "name": "stdout",
     "output_type": "stream",
     "text": [
      "\n",
      "Bästa k baserat på F1-score för klass 1: {'n_neighbors': 1}\n",
      "Bästa F1-score (cross-val): 0.2992537545543411\n",
      "\n",
      "📌 KNN (f1-optimal, k=1):\n",
      "Noggrannhet: 0.8536036036036037\n",
      "Konfusionsmatris:\n",
      " [[357  25]\n",
      " [ 40  22]]\n",
      "Klassificeringsrapport:\n",
      "               precision    recall  f1-score   support\n",
      "\n",
      "           0       0.90      0.93      0.92       382\n",
      "           1       0.47      0.35      0.40        62\n",
      "\n",
      "    accuracy                           0.85       444\n",
      "   macro avg       0.68      0.64      0.66       444\n",
      "weighted avg       0.84      0.85      0.84       444\n",
      "\n"
     ]
    }
   ],
   "source": [
    "from sklearn.metrics import make_scorer, f1_score\n",
    "\n",
    "f1_scorer = make_scorer(f1_score, pos_label=1)\n",
    "param_grid = {'n_neighbors': list(range(1, 21))}\n",
    "grid_f1 = GridSearchCV(KNeighborsClassifier(), param_grid, scoring=f1_scorer, cv=5)\n",
    "grid_f1.fit(X_train, y_train)\n",
    "\n",
    "print(\"\\nBästa k baserat på F1-score för klass 1:\", grid_f1.best_params_)\n",
    "print(\"Bästa F1-score (cross-val):\", grid_f1.best_score_)\n",
    "\n",
    "best_knn = grid_f1.best_estimator_\n",
    "evaluate_model(best_knn, X_test, y_test, f\"KNN (f1-optimal, k={grid_f1.best_params_['n_neighbors']})\")"
   ]
  },
  {
   "cell_type": "markdown",
   "id": "1f3f0a58",
   "metadata": {},
   "source": [
    "KNN (k=1) fungerar också bra men är känslig för brus"
   ]
  },
  {
   "cell_type": "code",
   "execution_count": null,
   "id": "4e083d19",
   "metadata": {},
   "outputs": [],
   "source": [
    "Random Forest"
   ]
  },
  {
   "cell_type": "code",
   "execution_count": null,
   "id": "ba09cd0a",
   "metadata": {},
   "outputs": [
    {
     "name": "stdout",
     "output_type": "stream",
     "text": [
      "\n",
      "📌 Random Forest:\n",
      "Noggrannhet: 0.8873873873873874\n",
      "Konfusionsmatris:\n",
      " [[376   6]\n",
      " [ 44  18]]\n",
      "Klassificeringsrapport:\n",
      "               precision    recall  f1-score   support\n",
      "\n",
      "           0       0.90      0.98      0.94       382\n",
      "           1       0.75      0.29      0.42        62\n",
      "\n",
      "    accuracy                           0.89       444\n",
      "   macro avg       0.82      0.64      0.68       444\n",
      "weighted avg       0.87      0.89      0.87       444\n",
      "\n"
     ]
    }
   ],
   "source": [
    "rf = RandomForestClassifier(random_state=42)\n",
    "rf.fit(X_train, y_train)\n",
    "evaluate_model(rf, X_test, y_test, \"Random Forest\")"
   ]
  },
  {
   "cell_type": "code",
   "execution_count": null,
   "id": "8c9a28bc",
   "metadata": {},
   "outputs": [],
   "source": [
    "ganska bra F1-score för klass 1"
   ]
  },
  {
   "cell_type": "code",
   "execution_count": null,
   "id": "c3bfde7f",
   "metadata": {},
   "outputs": [
    {
     "name": "stdout",
     "output_type": "stream",
     "text": [
      "\n",
      "📌 LogReg med PCA:\n",
      "Noggrannhet: 0.8603603603603603\n",
      "Konfusionsmatris:\n",
      " [[381   1]\n",
      " [ 61   1]]\n",
      "Klassificeringsrapport:\n",
      "               precision    recall  f1-score   support\n",
      "\n",
      "           0       0.86      1.00      0.92       382\n",
      "           1       0.50      0.02      0.03        62\n",
      "\n",
      "    accuracy                           0.86       444\n",
      "   macro avg       0.68      0.51      0.48       444\n",
      "weighted avg       0.81      0.86      0.80       444\n",
      "\n",
      "\n",
      "📌 KNN med PCA:\n",
      "Noggrannhet: 0.8581081081081081\n",
      "Konfusionsmatris:\n",
      " [[364  18]\n",
      " [ 45  17]]\n",
      "Klassificeringsrapport:\n",
      "               precision    recall  f1-score   support\n",
      "\n",
      "           0       0.89      0.95      0.92       382\n",
      "           1       0.49      0.27      0.35        62\n",
      "\n",
      "    accuracy                           0.86       444\n",
      "   macro avg       0.69      0.61      0.64       444\n",
      "weighted avg       0.83      0.86      0.84       444\n",
      "\n"
     ]
    }
   ],
   "source": [
    "pca = PCA(n_components=2)\n",
    "X_train_pca = pca.fit_transform(X_train_scaled)\n",
    "X_test_pca = pca.transform(X_test_scaled)\n",
    "\n",
    "log_pca = LogisticRegression(max_iter=1000)\n",
    "log_pca.fit(X_train_pca, y_train)\n",
    "evaluate_model(log_pca, X_test_pca, y_test, \"LogReg med PCA\")\n",
    "\n",
    "knn_pca = KNeighborsClassifier(n_neighbors=5)\n",
    "knn_pca.fit(X_train_pca, y_train)\n",
    "evaluate_model(knn_pca, X_test_pca, y_test, \"KNN med PCA\")"
   ]
  },
  {
   "cell_type": "markdown",
   "id": "e90fdec3",
   "metadata": {},
   "source": [
    "PCA-förminskning minskar förmågan att hitta klass 1"
   ]
  },
  {
   "cell_type": "code",
   "execution_count": null,
   "id": "ee46042c",
   "metadata": {},
   "outputs": [
    {
     "name": "stdout",
     "output_type": "stream",
     "text": [
      "\n",
      "📊 Sammanfattande modelljämförelse:\n",
      "                Modell  Accuracy  Precision_1  Recall_1      F1_1\n",
      "1    LogReg (balanced)  0.704955     0.290909  0.774194  0.422907\n",
      "3        Random Forest  0.887387     0.750000  0.290323  0.418605\n",
      "5          KNN med PCA  0.858108     0.485714  0.274194  0.350515\n",
      "0  Logistic Regression  0.869369     0.600000  0.193548  0.292683\n",
      "2           KNN (k=17)  0.864865     0.555556  0.161290  0.250000\n",
      "4       LogReg med PCA  0.860360     0.500000  0.016129  0.031250\n"
     ]
    }
   ],
   "source": [
    "results_df = pd.DataFrame(eval_results)\n",
    "print(\"\\n📊 Sammanfattande modelljämförelse:\")\n",
    "print(results_df.sort_values(by=\"F1_1\", ascending=False))"
   ]
  },
  {
   "cell_type": "code",
   "execution_count": null,
   "id": "4c9c55a6",
   "metadata": {},
   "outputs": [
    {
     "name": "stderr",
     "output_type": "stream",
     "text": [
      "C:\\Users\\riddl\\AppData\\Local\\Temp\\ipykernel_40556\\4006416880.py:8: UserWarning: Glyph 128202 (\\N{BAR CHART}) missing from font(s) DejaVu Sans.\n",
      "  plt.tight_layout()\n",
      "C:\\Users\\riddl\\AppData\\Roaming\\Python\\Python312\\site-packages\\IPython\\core\\pylabtools.py:170: UserWarning: Glyph 128202 (\\N{BAR CHART}) missing from font(s) DejaVu Sans.\n",
      "  fig.canvas.print_figure(bytes_io, **kw)\n"
     ]
    },
    {
     "data": {
      "image/png": "[encoded data removed]",
      "text/plain": [
       "<Figure size 1000x600 with 1 Axes>"
      ]
     },
     "metadata": {},
     "output_type": "display_data"
    }
   ],
   "source": [
    "plt.figure(figsize=(10, 6))\n",
    "sorted_df = results_df.sort_values(by=\"F1_1\", ascending=False)\n",
    "plt.barh(sorted_df[\"Modell\"], sorted_df[\"F1_1\"], color='skyblue')\n",
    "plt.xlabel(\"F1-score för klass 1 (svarade)\")\n",
    "plt.title(\"📊 Modelljämförelse: F1-score för klass 1\")\n",
    "plt.gca().invert_yaxis()\n",
    "plt.grid(axis='x')\n",
    "plt.tight_layout()\n",
    "plt.show()\n"
   ]
  },
  {
   "cell_type": "markdown",
   "id": "4dff8115",
   "metadata": {},
   "source": [
    "slutsats : Använd LogReg (balanced) eller Random Forest"
   ]
  }
 ],
 "metadata": {
  "kernelspec": {
   "display_name": "Python 3",
   "language": "python",
   "name": "python3"
  },
  "language_info": {
   "codemirror_mode": {
    "name": "ipython",
    "version": 3
   },
   "file_extension": ".py",
   "mimetype": "text/x-python",
   "name": "python",
   "nbconvert_exporter": "python",
   "pygments_lexer": "ipython3",
   "version": "3.12.6"
  }
 },
 "nbformat": 4,
 "nbformat_minor": 5
}
